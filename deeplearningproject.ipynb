{
 "cells": [
  {
   "cell_type": "code",
   "execution_count": 1,
   "metadata": {},
   "outputs": [
    {
     "name": "stdout",
     "output_type": "stream",
     "text": [
      "Requirement already satisfied: tensorflow in c:\\users\\kosta\\appdata\\local\\programs\\python\\python37\\lib\\site-packages (2.9.1)Note: you may need to restart the kernel to use updated packages.\n",
      "Collecting tensorflow\n",
      "  Using cached tensorflow-2.9.1-cp37-cp37m-win_amd64.whl (444.0 MB)\n",
      "  Using cached tensorflow-2.9.0-cp37-cp37m-win_amd64.whl (444.0 MB)\n",
      "Requirement already satisfied: opt-einsum>=2.3.2 in c:\\users\\kosta\\appdata\\local\\programs\\python\\python37\\lib\\site-packages (from tensorflow) (3.3.0)\n",
      "Requirement already satisfied: h5py>=2.9.0 in c:\\users\\kosta\\appdata\\local\\programs\\python\\python37\\lib\\site-packages (from tensorflow) (3.6.0)\n",
      "Requirement already satisfied: packaging in c:\\users\\kosta\\appdata\\local\\programs\\python\\python37\\lib\\site-packages (from tensorflow) (20.4)\n",
      "Requirement already satisfied: grpcio<2.0,>=1.24.3 in c:\\users\\kosta\\appdata\\local\\programs\\python\\python37\\lib\\site-packages (from tensorflow) (1.46.3)\n",
      "Requirement already satisfied: tensorflow-estimator<2.10.0,>=2.9.0rc0 in c:\\users\\kosta\\appdata\\local\\programs\\python\\python37\\lib\\site-packages (from tensorflow) (2.9.0)\n",
      "Requirement already satisfied: keras-preprocessing>=1.1.1 in c:\\users\\kosta\\appdata\\local\\programs\\python\\python37\\lib\\site-packages (from tensorflow) (1.1.2)\n",
      "Requirement already satisfied: keras<2.10.0,>=2.9.0rc0 in c:\\users\\kosta\\appdata\\local\\programs\\python\\python37\\lib\\site-packages (from tensorflow) (2.9.0)\n",
      "Requirement already satisfied: typing-extensions>=3.6.6 in c:\\users\\kosta\\appdata\\local\\programs\\python\\python37\\lib\\site-packages (from tensorflow) (4.2.0)\n",
      "\n"
     ]
    },
    {
     "name": "stderr",
     "output_type": "stream",
     "text": [
      "WARNING: You are using pip version 20.3.4; however, version 22.1.1 is available.\n",
      "You should consider upgrading via the 'c:\\Users\\kosta\\AppData\\Local\\Programs\\Python\\Python37\\python.exe -m pip install --upgrade pip' command.\n"
     ]
    },
    {
     "name": "stdout",
     "output_type": "stream",
     "text": [
      "Requirement already satisfied: astunparse>=1.6.0 in c:\\users\\kosta\\appdata\\local\\programs\\python\\python37\\lib\\site-packages (from tensorflow) (1.6.3)\n",
      "Requirement already satisfied: numpy>=1.20 in c:\\users\\kosta\\appdata\\local\\programs\\python\\python37\\lib\\site-packages (from tensorflow) (1.21.6)\n",
      "Requirement already satisfied: gast<=0.4.0,>=0.2.1 in c:\\users\\kosta\\appdata\\local\\programs\\python\\python37\\lib\\site-packages (from tensorflow) (0.4.0)\n",
      "Requirement already satisfied: flatbuffers<2,>=1.12 in c:\\users\\kosta\\appdata\\local\\programs\\python\\python37\\lib\\site-packages (from tensorflow) (1.12)\n",
      "Requirement already satisfied: tensorboard<2.10,>=2.9 in c:\\users\\kosta\\appdata\\local\\programs\\python\\python37\\lib\\site-packages (from tensorflow) (2.9.0)\n",
      "Requirement already satisfied: libclang>=13.0.0 in c:\\users\\kosta\\appdata\\local\\programs\\python\\python37\\lib\\site-packages (from tensorflow) (14.0.1)\n",
      "Requirement already satisfied: termcolor>=1.1.0 in c:\\users\\kosta\\appdata\\local\\programs\\python\\python37\\lib\\site-packages (from tensorflow) (1.1.0)\n",
      "Requirement already satisfied: absl-py>=1.0.0 in c:\\users\\kosta\\appdata\\local\\programs\\python\\python37\\lib\\site-packages (from tensorflow) (1.0.0)\n",
      "Requirement already satisfied: tensorflow-io-gcs-filesystem>=0.23.1 in c:\\users\\kosta\\appdata\\local\\programs\\python\\python37\\lib\\site-packages (from tensorflow) (0.26.0)\n",
      "Requirement already satisfied: google-pasta>=0.1.1 in c:\\users\\kosta\\appdata\\local\\programs\\python\\python37\\lib\\site-packages (from tensorflow) (0.2.0)\n",
      "Requirement already satisfied: six>=1.12.0 in c:\\users\\kosta\\appdata\\local\\programs\\python\\python37\\lib\\site-packages (from tensorflow) (1.15.0)\n",
      "Requirement already satisfied: protobuf<3.20,>=3.9.2 in c:\\users\\kosta\\appdata\\local\\programs\\python\\python37\\lib\\site-packages (from tensorflow) (3.19.4)\n",
      "Requirement already satisfied: setuptools in c:\\users\\kosta\\appdata\\local\\programs\\python\\python37\\lib\\site-packages (from tensorflow) (50.3.2)\n",
      "Requirement already satisfied: wrapt>=1.11.0 in c:\\users\\kosta\\appdata\\local\\programs\\python\\python37\\lib\\site-packages (from tensorflow) (1.12.1)\n",
      "Requirement already satisfied: wheel<1.0,>=0.23.0 in c:\\users\\kosta\\appdata\\local\\programs\\python\\python37\\lib\\site-packages (from astunparse>=1.6.0->tensorflow) (0.37.1)\n",
      "Requirement already satisfied: cached-property in c:\\users\\kosta\\appdata\\local\\programs\\python\\python37\\lib\\site-packages (from h5py>=2.9.0->tensorflow) (1.5.2)\n",
      "Requirement already satisfied: google-auth-oauthlib<0.5,>=0.4.1 in c:\\users\\kosta\\appdata\\local\\programs\\python\\python37\\lib\\site-packages (from tensorboard<2.10,>=2.9->tensorflow) (0.4.6)\n",
      "Requirement already satisfied: tensorboard-plugin-wit>=1.6.0 in c:\\users\\kosta\\appdata\\local\\programs\\python\\python37\\lib\\site-packages (from tensorboard<2.10,>=2.9->tensorflow) (1.8.1)\n",
      "Requirement already satisfied: requests<3,>=2.21.0 in c:\\users\\kosta\\appdata\\local\\programs\\python\\python37\\lib\\site-packages (from tensorboard<2.10,>=2.9->tensorflow) (2.27.1)\n",
      "Requirement already satisfied: tensorboard-data-server<0.7.0,>=0.6.0 in c:\\users\\kosta\\appdata\\local\\programs\\python\\python37\\lib\\site-packages (from tensorboard<2.10,>=2.9->tensorflow) (0.6.1)\n",
      "Requirement already satisfied: werkzeug>=1.0.1 in c:\\users\\kosta\\appdata\\local\\programs\\python\\python37\\lib\\site-packages (from tensorboard<2.10,>=2.9->tensorflow) (2.1.2)\n",
      "Requirement already satisfied: markdown>=2.6.8 in c:\\users\\kosta\\appdata\\local\\programs\\python\\python37\\lib\\site-packages (from tensorboard<2.10,>=2.9->tensorflow) (3.3.7)\n",
      "Requirement already satisfied: google-auth<3,>=1.6.3 in c:\\users\\kosta\\appdata\\local\\programs\\python\\python37\\lib\\site-packages (from tensorboard<2.10,>=2.9->tensorflow) (2.6.6)\n",
      "Requirement already satisfied: cachetools<6.0,>=2.0.0 in c:\\users\\kosta\\appdata\\local\\programs\\python\\python37\\lib\\site-packages (from google-auth<3,>=1.6.3->tensorboard<2.10,>=2.9->tensorflow) (5.1.0)\n",
      "Requirement already satisfied: rsa<5,>=3.1.4 in c:\\users\\kosta\\appdata\\local\\programs\\python\\python37\\lib\\site-packages (from google-auth<3,>=1.6.3->tensorboard<2.10,>=2.9->tensorflow) (4.8)\n",
      "Requirement already satisfied: pyasn1-modules>=0.2.1 in c:\\users\\kosta\\appdata\\local\\programs\\python\\python37\\lib\\site-packages (from google-auth<3,>=1.6.3->tensorboard<2.10,>=2.9->tensorflow) (0.2.8)\n",
      "Requirement already satisfied: requests-oauthlib>=0.7.0 in c:\\users\\kosta\\appdata\\local\\programs\\python\\python37\\lib\\site-packages (from google-auth-oauthlib<0.5,>=0.4.1->tensorboard<2.10,>=2.9->tensorflow) (1.3.1)\n",
      "Requirement already satisfied: importlib-metadata>=4.4 in c:\\users\\kosta\\appdata\\local\\programs\\python\\python37\\lib\\site-packages (from markdown>=2.6.8->tensorboard<2.10,>=2.9->tensorflow) (4.11.4)\n",
      "Requirement already satisfied: zipp>=0.5 in c:\\users\\kosta\\appdata\\local\\programs\\python\\python37\\lib\\site-packages (from importlib-metadata>=4.4->markdown>=2.6.8->tensorboard<2.10,>=2.9->tensorflow) (3.4.0)\n",
      "Requirement already satisfied: pyasn1<0.5.0,>=0.4.6 in c:\\users\\kosta\\appdata\\local\\programs\\python\\python37\\lib\\site-packages (from pyasn1-modules>=0.2.1->google-auth<3,>=1.6.3->tensorboard<2.10,>=2.9->tensorflow) (0.4.8)\n",
      "Requirement already satisfied: urllib3<1.27,>=1.21.1 in c:\\users\\kosta\\appdata\\local\\programs\\python\\python37\\lib\\site-packages (from requests<3,>=2.21.0->tensorboard<2.10,>=2.9->tensorflow) (1.26.9)\n",
      "Requirement already satisfied: idna<4,>=2.5 in c:\\users\\kosta\\appdata\\local\\programs\\python\\python37\\lib\\site-packages (from requests<3,>=2.21.0->tensorboard<2.10,>=2.9->tensorflow) (3.3)\n",
      "Requirement already satisfied: certifi>=2017.4.17 in c:\\users\\kosta\\appdata\\local\\programs\\python\\python37\\lib\\site-packages (from requests<3,>=2.21.0->tensorboard<2.10,>=2.9->tensorflow) (2020.6.20)\n",
      "Requirement already satisfied: charset-normalizer~=2.0.0 in c:\\users\\kosta\\appdata\\local\\programs\\python\\python37\\lib\\site-packages (from requests<3,>=2.21.0->tensorboard<2.10,>=2.9->tensorflow) (2.0.12)\n",
      "Requirement already satisfied: oauthlib>=3.0.0 in c:\\users\\kosta\\appdata\\local\\programs\\python\\python37\\lib\\site-packages (from requests-oauthlib>=0.7.0->google-auth-oauthlib<0.5,>=0.4.1->tensorboard<2.10,>=2.9->tensorflow) (3.2.0)\n",
      "Requirement already satisfied: pyparsing>=2.0.2 in c:\\users\\kosta\\appdata\\local\\programs\\python\\python37\\lib\\site-packages (from packaging->tensorflow) (2.4.7)\n"
     ]
    }
   ],
   "source": [
    "%pip install --upgrade tensorflow"
   ]
  },
  {
   "cell_type": "code",
   "execution_count": 2,
   "metadata": {},
   "outputs": [
    {
     "name": "stdout",
     "output_type": "stream",
     "text": [
      "Num GPUs Available:  0\n"
     ]
    }
   ],
   "source": [
    "import tensorflow as tf\n",
    "import tensorflow\n",
    "\n",
    "print(\"Num GPUs Available: \", len(tf.config.list_physical_devices('GPU')))"
   ]
  },
  {
   "cell_type": "code",
   "execution_count": 3,
   "metadata": {},
   "outputs": [
    {
     "name": "stdout",
     "output_type": "stream",
     "text": [
      "1530\n",
      "1667\n",
      "1530\n",
      "1667\n"
     ]
    }
   ],
   "source": [
    "import csv\n",
    "PositiveImagePaths = []\n",
    "NegativeImagePaths = []\n",
    "\n",
    "\n",
    "with open(\"MURA-v1.1/valid_image_paths.csv\", \"r\") as file:\n",
    "    csvreader = csv.reader(file)\n",
    "    for row in csvreader:\n",
    "        if \"positive\" in row[0].split(\"/\")[4]:\n",
    "          PositiveImagePaths.append(row[0])\n",
    "        else : NegativeImagePaths.append(row[0])\n",
    "            \n",
    "print(len(PositiveImagePaths))\n",
    "print(len(NegativeImagePaths))\n",
    "\n",
    "\n",
    "import shutil\n",
    "count = 0\n",
    "\n",
    "for x in PositiveImagePaths:\n",
    "    count = count + 1\n",
    "    with open(x, 'rb') as fin:\n",
    "        with open(\"MURA-2folder/valid/positive/\"+str(count)+\".png\", 'wb') as fout:\n",
    "            shutil.copyfileobj(fin, fout, 2048*1024)\n",
    "\n",
    "print(count)\n",
    "count = 0\n",
    "\n",
    "for x in NegativeImagePaths:\n",
    "    count = count + 1\n",
    "    with open(x, 'rb') as fin:\n",
    "        with open(\"MURA-2folder/valid/negative/\"+str(count)+\".png\", 'wb') as fout:\n",
    "            shutil.copyfileobj(fin, fout, 2048*1024)\n",
    "            \n",
    "print(count)"
   ]
  },
  {
   "cell_type": "code",
   "execution_count": 4,
   "metadata": {},
   "outputs": [
    {
     "name": "stdout",
     "output_type": "stream",
     "text": [
      "14873\n",
      "21935\n",
      "14873\n",
      "21935\n"
     ]
    }
   ],
   "source": [
    "import csv\n",
    "PositiveImagePaths = []\n",
    "NegativeImagePaths = []\n",
    "\n",
    "\n",
    "with open(\"MURA-v1.1/train_image_paths.csv\", \"r\") as file:\n",
    "    csvreader = csv.reader(file)\n",
    "    for row in csvreader:\n",
    "        if \"positive\" in row[0].split(\"/\")[4]:\n",
    "          PositiveImagePaths.append(row[0])\n",
    "        else : NegativeImagePaths.append(row[0])\n",
    "            \n",
    "print(len(PositiveImagePaths))\n",
    "print(len(NegativeImagePaths))\n",
    "\n",
    "\n",
    "import shutil\n",
    "count = 0\n",
    "\n",
    "for x in PositiveImagePaths:\n",
    "    count = count + 1\n",
    "    with open(x, 'rb') as fin:\n",
    "        with open(\"MURA-2folder/train/positive/\"+str(count)+\".png\", 'wb') as fout:\n",
    "            shutil.copyfileobj(fin, fout, 2048*1024)\n",
    "\n",
    "print(count)\n",
    "count = 0\n",
    "\n",
    "for x in NegativeImagePaths:\n",
    "    count = count + 1\n",
    "    with open(x, 'rb') as fin:\n",
    "        with open(\"MURA-2folder/train/negative/\"+str(count)+\".png\", 'wb') as fout:\n",
    "            shutil.copyfileobj(fin, fout, 2048*1024)\n",
    "            \n",
    "print(count)"
   ]
  },
  {
   "cell_type": "code",
   "execution_count": 5,
   "metadata": {},
   "outputs": [
    {
     "name": "stdout",
     "output_type": "stream",
     "text": [
      "Found 36808 files belonging to 2 classes.\n",
      "Using 22085 files for training.\n",
      "Found 36808 files belonging to 2 classes.\n",
      "Using 14723 files for validation.\n",
      "Found 3197 files belonging to 2 classes.\n",
      "<BatchDataset element_spec=(TensorSpec(shape=(None, 224, 224, 1), dtype=tf.float32, name=None), TensorSpec(shape=(None, 1), dtype=tf.float32, name=None))>\n",
      "['negative', 'positive']\n"
     ]
    }
   ],
   "source": [
    "from tensorflow.keras.utils import image_dataset_from_directory\n",
    "\n",
    "trainDs = image_dataset_from_directory(\"MURA-2folder/train\",\n",
    "                            labels='inferred',\n",
    "                            label_mode='binary',\n",
    "                            color_mode='grayscale',\n",
    "                            validation_split=0.4,\n",
    "                            subset=\"training\",\n",
    "                            batch_size=1,\n",
    "                            image_size=(224, 224),\n",
    "                            seed=123\n",
    "                            )\n",
    "\n",
    "#testDs used as TEST dataset\n",
    "testDs = image_dataset_from_directory(\"MURA-2folder/train\",\n",
    "                            labels='inferred',\n",
    "                            label_mode='binary',\n",
    "                            color_mode='grayscale',\n",
    "                            validation_split=0.4,\n",
    "                            subset=\"validation\",\n",
    "                            batch_size=1,\n",
    "                            image_size=(224, 224),\n",
    "                            seed=123\n",
    "                            )\n",
    "\n",
    "\n",
    "validDs = image_dataset_from_directory(\"MURA-2folder/valid\",\n",
    "                            labels='inferred',\n",
    "                            label_mode='binary',\n",
    "                            color_mode='grayscale',\n",
    "                            batch_size=1,\n",
    "                            image_size=(224, 224),\n",
    "                            seed=123\n",
    "                            )\n",
    "\n",
    "print(trainDs)\n",
    "print(trainDs.class_names)"
   ]
  },
  {
   "cell_type": "code",
   "execution_count": 6,
   "metadata": {},
   "outputs": [
    {
     "name": "stdout",
     "output_type": "stream",
     "text": [
      "1\n"
     ]
    }
   ],
   "source": [
    "print(len(trainDs.take(1)))"
   ]
  },
  {
   "cell_type": "code",
   "execution_count": 7,
   "metadata": {},
   "outputs": [
    {
     "name": "stdout",
     "output_type": "stream",
     "text": [
      "[<keras.engine.input_layer.InputLayer object at 0x000001AAD1BEF788>, <keras.layers.merging.concatenate.Concatenate object at 0x000001AAD3EDFA08>, <keras.engine.functional.Functional object at 0x000001AAD2EEF208>]\n"
     ]
    }
   ],
   "source": [
    "from tensorflow.keras.applications.mobilenet_v2 import MobileNetV2\n",
    "from tensorflow.keras.layers import Input, Concatenate\n",
    "from tensorflow.keras import Model\n",
    "\n",
    "MobileNetV2 = MobileNetV2(weights='imagenet',include_top= 'false') \n",
    "\n",
    "#Added below layers cause our images are greyscale (224,224,1)\n",
    "input_tensor = Input(shape=(224,224,1) )\n",
    "img_conc = Concatenate()([input_tensor, input_tensor, input_tensor])       # x has a dimension of (IMG_SIZE,IMG_SIZE,3)\n",
    "out = MobileNetV2(img_conc) \n",
    "\n",
    "base_model = Model(inputs=input_tensor,outputs=out)\n",
    "\n",
    "print(base_model.layers)\n",
    "base_model.trainable = False\n"
   ]
  },
  {
   "cell_type": "code",
   "execution_count": 8,
   "metadata": {},
   "outputs": [
    {
     "name": "stdout",
     "output_type": "stream",
     "text": [
      "Note: you may need to restart the kernel to use updated packages.\n"
     ]
    },
    {
     "name": "stderr",
     "output_type": "stream",
     "text": [
      "WARNING: You are using pip version 20.3.4; however, version 22.1.1 is available.\n",
      "You should consider upgrading via the 'c:\\Users\\kosta\\AppData\\Local\\Programs\\Python\\Python37\\python.exe -m pip install --upgrade pip' command.\n"
     ]
    }
   ],
   "source": [
    "%pip install -q -U keras-tuner"
   ]
  },
  {
   "cell_type": "code",
   "execution_count": 9,
   "metadata": {},
   "outputs": [
    {
     "name": "stdout",
     "output_type": "stream",
     "text": [
      "Trial 5 Complete [00h 04m 25s]\n",
      "val_accuracy: 0.5400000214576721\n",
      "\n",
      "Best val_accuracy So Far: 0.6050000190734863\n",
      "Total elapsed time: 00h 27m 41s\n",
      "INFO:tensorflow:Oracle triggered exit\n"
     ]
    },
    {
     "name": "stdout",
     "output_type": "stream",
     "text": [
      "{'mlp_hidden_layers': 2, 'dropout_rate1_0': 0.5, 'DENSE_units_0': 512, 'dropout_rate2': 0.5, 'learning_rate': 0.0009, 'dropout_rate1_1': 0.4, 'DENSE_units_1': 256, 'dropout_rate1_2': 0.4, 'DENSE_units_2': 170}\n"
     ]
    }
   ],
   "source": [
    "import keras_tuner as kt\n",
    "import os\n",
    "os.environ['TF_CPP_MIN_LOG_LEVEL'] = '3'\n",
    "from tensorflow.keras.callbacks import ModelCheckpoint, EarlyStopping\n",
    "from keras.losses import BinaryCrossentropy \n",
    "from keras.models import Sequential\n",
    "from keras.layers import Dense, Dropout, Input\n",
    "from tensorflow.keras.optimizers import Adam\n",
    "from tensorflow.keras import Model\n",
    "import numpy as np\n",
    "\n",
    "\n",
    "def model_builder(hp):\n",
    "  model = Sequential()\n",
    "\n",
    "  model.add(base_model)\n",
    "  # Αdd a hidden MLP layer\n",
    "  for i in range(hp.Int('mlp_hidden_layers', 1, 3)):\n",
    "    hp_dropout = hp.Choice('dropout_rate1_' + str(i), values=[0.3, 0.4, 0.5])\n",
    "    model.add(Dropout(hp_dropout))\n",
    "    hp_dense = hp.Choice('DENSE_units_' + str(i), values=[int(512/(i+1)), int(256/(i+1)), int(128/(i+1))])\n",
    "    model.add(Dense(hp_dense, activation='relu' ))\n",
    "\n",
    "  # Αdd the output MLP layer\n",
    "  hp_dropout = hp.Choice('dropout_rate2', values=[0.3, 0.4, 0.5])\n",
    "  model.add(Dropout(hp_dropout))\n",
    "  model.add(Dense(1, activation='sigmoid'))\n",
    "\n",
    "  hp_learning_rate = hp.Choice('learning_rate', values=[2e-3, 1e-3, 9e-4])\n",
    "\n",
    "  model.compile(optimizer=Adam(learning_rate=hp_learning_rate),\n",
    "                loss=BinaryCrossentropy(),\n",
    "                metrics=['accuracy', 'cosine_proximity'])\n",
    "\n",
    "  return model\n",
    "\n",
    "tuner = kt.BayesianOptimization(model_builder,\n",
    "                    objective='val_accuracy',\n",
    "                    max_trials=5,\n",
    "                    overwrite=True,\n",
    "                    )\n",
    "\n",
    "tuner.search_space_summary()\n",
    "\n",
    "stop_early = tensorflow.keras.callbacks.EarlyStopping(monitor='val_accuracy', \n",
    "                                              patience=2, \n",
    "                                              min_delta=0.001,\n",
    "                                              mode='auto')\n",
    "\n",
    "tuner.search(trainDs.take(1600), \n",
    "             batch_size=32,\n",
    "             epochs=5, \n",
    "             callbacks=[stop_early],\n",
    "             validation_data=validDs.take(200)\n",
    "             )\n",
    "\n",
    "best_model = tuner.get_best_models()[0]\n",
    "\n",
    "best_hyperparameters = tuner.get_best_hyperparameters()[0]\n",
    "print(best_hyperparameters.values)"
   ]
  },
  {
   "cell_type": "markdown",
   "metadata": {},
   "source": [
    "Below we redefine our model with the best hyperparameters we found with keras tuner.\n",
    "And run it with our train and valid datasets. Utilizing early stopping for 12 epochs. "
   ]
  },
  {
   "cell_type": "code",
   "execution_count": 9,
   "metadata": {},
   "outputs": [
    {
     "name": "stdout",
     "output_type": "stream",
     "text": [
      "Model: \"sequential_1\"\n",
      "_________________________________________________________________\n",
      " Layer (type)                Output Shape              Param #   \n",
      "=================================================================\n",
      " model (Functional)          (None, 1000)              3538984   \n",
      "                                                                 \n",
      " dropout_3 (Dropout)         (None, 1000)              0         \n",
      "                                                                 \n",
      " dense_3 (Dense)             (None, 512)               512512    \n",
      "                                                                 \n",
      " dropout_4 (Dropout)         (None, 512)               0         \n",
      "                                                                 \n",
      " dense_4 (Dense)             (None, 256)               131328    \n",
      "                                                                 \n",
      " dropout_5 (Dropout)         (None, 256)               0         \n",
      "                                                                 \n",
      " dense_5 (Dense)             (None, 1)                 257       \n",
      "                                                                 \n",
      "=================================================================\n",
      "Total params: 4,183,081\n",
      "Trainable params: 644,097\n",
      "Non-trainable params: 3,538,984\n",
      "_________________________________________________________________\n",
      "None\n",
      "Epoch 1/12\n",
      "22085/22085 [==============================] - ETA: 0s - loss: 0.6689 - accuracy: 0.5890 - cosine_proximity: 0.4101\n",
      "Epoch 1: val_accuracy improved from -inf to 0.55677, saving model to checkpoints\\weights\n",
      "22085/22085 [==============================] - 971s 44ms/step - loss: 0.6689 - accuracy: 0.5890 - cosine_proximity: 0.4101 - val_loss: 0.6768 - val_accuracy: 0.5568 - val_cosine_proximity: 0.4786\n",
      "Epoch 2/12\n",
      "22084/22085 [============================>.] - ETA: 0s - loss: 0.6635 - accuracy: 0.5964 - cosine_proximity: 0.4101\n",
      "Epoch 2: val_accuracy improved from 0.55677 to 0.58555, saving model to checkpoints\\weights\n",
      "22085/22085 [==============================] - 972s 44ms/step - loss: 0.6635 - accuracy: 0.5965 - cosine_proximity: 0.4101 - val_loss: 0.6744 - val_accuracy: 0.5855 - val_cosine_proximity: 0.4786\n",
      "Epoch 3/12\n",
      "22084/22085 [============================>.] - ETA: 0s - loss: 0.6608 - accuracy: 0.5968 - cosine_proximity: 0.4101\n",
      "Epoch 3: val_accuracy improved from 0.58555 to 0.58774, saving model to checkpoints\\weights\n",
      "22085/22085 [==============================] - 981s 44ms/step - loss: 0.6608 - accuracy: 0.5968 - cosine_proximity: 0.4101 - val_loss: 0.6710 - val_accuracy: 0.5877 - val_cosine_proximity: 0.4786\n",
      "Epoch 4/12\n",
      "22084/22085 [============================>.] - ETA: 0s - loss: 0.6606 - accuracy: 0.5999 - cosine_proximity: 0.4101\n",
      "Epoch 4: val_accuracy did not improve from 0.58774\n",
      "22085/22085 [==============================] - 967s 44ms/step - loss: 0.6606 - accuracy: 0.6000 - cosine_proximity: 0.4101 - val_loss: 0.6700 - val_accuracy: 0.5793 - val_cosine_proximity: 0.4786\n",
      "Epoch 5/12\n",
      "22084/22085 [============================>.] - ETA: 0s - loss: 0.6588 - accuracy: 0.6040 - cosine_proximity: 0.4101\n",
      "Epoch 5: val_accuracy did not improve from 0.58774\n",
      "22085/22085 [==============================] - 934s 42ms/step - loss: 0.6588 - accuracy: 0.6039 - cosine_proximity: 0.4101 - val_loss: 0.6696 - val_accuracy: 0.5834 - val_cosine_proximity: 0.4786\n",
      "Epoch 6/12\n",
      "22085/22085 [==============================] - ETA: 0s - loss: 0.6581 - accuracy: 0.6024 - cosine_proximity: 0.4101\n",
      "Epoch 6: val_accuracy did not improve from 0.58774\n",
      "22085/22085 [==============================] - 949s 43ms/step - loss: 0.6581 - accuracy: 0.6024 - cosine_proximity: 0.4101 - val_loss: 0.6690 - val_accuracy: 0.5740 - val_cosine_proximity: 0.4786\n",
      "Epoch 6: early stopping\n"
     ]
    },
    {
     "name": "stderr",
     "output_type": "stream",
     "text": [
      "WARNING:absl:Found untraced functions such as _jit_compiled_convolution_op, _jit_compiled_convolution_op, _jit_compiled_convolution_op, _jit_compiled_convolution_op, _jit_compiled_convolution_op while saving (showing 5 of 52). These functions will not be directly callable after loading.\n"
     ]
    },
    {
     "name": "stdout",
     "output_type": "stream",
     "text": [
      "INFO:tensorflow:Assets written to: model\\assets\n"
     ]
    },
    {
     "name": "stderr",
     "output_type": "stream",
     "text": [
      "INFO:tensorflow:Assets written to: model\\assets\n"
     ]
    }
   ],
   "source": [
    "import os\n",
    "os.environ['TF_CPP_MIN_LOG_LEVEL'] = '3'\n",
    "from tensorflow.keras.callbacks import ModelCheckpoint, EarlyStopping\n",
    "from keras.losses import BinaryCrossentropy \n",
    "from keras.models import Sequential\n",
    "from keras.layers import Dense, Dropout, Input\n",
    "from tensorflow.keras.optimizers import Adam\n",
    "from tensorflow.keras import Model\n",
    "import numpy as np\n",
    "\n",
    "# {'mlp_hidden_layers': 2, 'dropout_rate1_0': 0.5, 'DENSE_units_0': 512, 'dropout_rate2': 0.5,\n",
    "#  'learning_rate': 0.0009, 'dropout_rate1_1': 0.4, 'DENSE_units_1': 256, ######'dropout_rate1_2': 0.4, 'DENSE_units_2': 170\n",
    "\n",
    "model = Sequential()\n",
    "\n",
    "model.add(base_model)\n",
    "\n",
    "# Αdd MLP layers\n",
    "model.add(Dropout(0.5))\n",
    "model.add(Dense(512, activation='relu' ))\n",
    "\n",
    "model.add(Dropout(0.4))\n",
    "model.add(Dense(256, activation='relu' ))\n",
    "\n",
    "# Αdd the output MLP layer\n",
    "model.add(Dropout(0.5))\n",
    "model.add(Dense(1, activation='sigmoid'))\n",
    "\n",
    "model.compile(optimizer=Adam(learning_rate=0.0009),\n",
    "            loss=BinaryCrossentropy(),\n",
    "            metrics=['accuracy', 'cosine_proximity'])\n",
    "\n",
    "print(model.summary())\n",
    "\n",
    "checkpoint = ModelCheckpoint(\n",
    "    'checkpoints/weights',\n",
    "    monitor='val_accuracy', \n",
    "    mode='auto', \n",
    "    verbose=2,\n",
    "    save_best_only=True,\n",
    "    save_weights_only=True\n",
    "    )\n",
    "\n",
    "early_stopping = EarlyStopping(\n",
    "   monitor='val_accuracy',\n",
    "   min_delta=0.0001,\n",
    "   patience=3,\n",
    "   verbose=2,\n",
    "   mode='auto',\n",
    "   )\n",
    "\n",
    "history = model.fit(\n",
    "    trainDs,\n",
    "    validation_data=validDs, \n",
    "    batch_size=32,\n",
    "    epochs=12,\n",
    "    shuffle=True,\n",
    "    callbacks=[checkpoint, early_stopping]\n",
    "    )\n",
    "\n",
    "model.save('model')"
   ]
  },
  {
   "cell_type": "code",
   "execution_count": 10,
   "metadata": {},
   "outputs": [
    {
     "data": {
      "image/png": "[encoded data removed]",
      "text/plain": [
       "<Figure size 432x288 with 1 Axes>"
      ]
     },
     "metadata": {
      "needs_background": "light"
     },
     "output_type": "display_data"
    },
    {
     "data": {
      "image/png": "[encoded data removed]",
      "text/plain": [
       "<Figure size 432x288 with 1 Axes>"
      ]
     },
     "metadata": {
      "needs_background": "light"
     },
     "output_type": "display_data"
    }
   ],
   "source": [
    "%matplotlib inline\n",
    "import matplotlib.pyplot as plt\n",
    "\n",
    "def loss_curve(history):\n",
    "  # summarize history for accuracy\n",
    "  plt.plot(history.history['accuracy'])\n",
    "  plt.plot(history.history['val_accuracy'])\n",
    "  plt.title('model accuracy')\n",
    "  plt.ylabel('accuracy')\n",
    "  plt.xlabel('epoch')\n",
    "  plt.legend(['train', 'dev'], loc='upper left')\n",
    "  plt.show()\n",
    "  \n",
    "  # summarize history for loss\n",
    "  plt.plot(history.history['loss'])\n",
    "  plt.plot(history.history['val_loss'])\n",
    "  plt.title('model loss')\n",
    "  plt.ylabel('loss')\n",
    "  plt.xlabel('epoch')\n",
    "  plt.legend(['train', 'dev'], loc='upper right')\n",
    "  plt.show()\n",
    "\n",
    "\n",
    "loss_curve(history)"
   ]
  },
  {
   "cell_type": "code",
   "execution_count": 11,
   "metadata": {},
   "outputs": [],
   "source": [
    "#scores\n",
    "from sklearn.metrics import f1_score,precision_score,recall_score,precision_recall_curve,auc,average_precision_score\n",
    "from sklearn.metrics import accuracy_score\n",
    "import pandas as pd\n",
    "import numpy as np\n",
    "\n",
    "#All needed scores to be calaculated for each estimator later\n",
    "def scores(y, predictions, probs, soft_pred=None) :\n",
    "  score = precision_score(y, predictions,pos_label=0)\n",
    "  print(\"Negative class precision: {:.2f}%\".format(score*100))\n",
    "  score = precision_score(y, predictions,pos_label=1)\n",
    "  print(\"Positive class precision: {:.2f}%\".format(score*100))\n",
    "  score = recall_score(y, predictions,pos_label=0)\n",
    "  print(\"Negative class recall: {:.2f}%\".format(score*100))\n",
    "  score = recall_score(y, predictions,pos_label=1)\n",
    "  print(\"Positive class recall: {:.2f}%\".format(score*100))\n",
    "  score = f1_score(y,predictions,pos_label=0)\n",
    "  print(\"Negative class f1-score: {:.2f}%\".format(score*100))\n",
    "  score = f1_score(y,predictions,pos_label=1)\n",
    "  print(\"Positive class f1-score: {:.2f}%\".format(score*100))\n",
    "\n",
    "  print(\"--- MACRO-AVERAGED RESULTS ---\\n\")\n",
    "  #MACRO\n",
    "  score = precision_score(y, predictions, average='macro')\n",
    "  print(\"macro-precision: {:.2f}%\".format(score*100))\n",
    "  score = recall_score(y, predictions, average='macro')\n",
    "  print(\"macro-recall: {:.2f}%\".format(score*100))\n",
    "  score = f1_score(y,predictions, average='macro')\n",
    "  print(\"macro-f1-score: {:.2f}%\".format(score*100))\n",
    "  \n",
    "  \n",
    "def predict_results(dataSetToTest) :\n",
    "    #PREDICTIONS\n",
    "    probs = model.predict(dataSetToTest)\n",
    "    \n",
    "    #print(probs)\n",
    "    \n",
    "    preds_01 = []\n",
    "    for p in probs:\n",
    "        if p > 0.5:\n",
    "            preds_01.append(1)\n",
    "        else : preds_01.append(0)\n",
    "        \n",
    "    #print(preds_01)\n",
    "\n",
    "    #REAL Y\n",
    "    real_y = []\n",
    "    for bX, by in dataSetToTest: \n",
    "        real_y.append(int(by))\n",
    "\n",
    "    #print(real_y)\n",
    "\n",
    "    scores(real_y,preds_01,probs)"
   ]
  },
  {
   "cell_type": "code",
   "execution_count": 12,
   "metadata": {},
   "outputs": [
    {
     "name": "stdout",
     "output_type": "stream",
     "text": [
      "Training results:\n",
      "22085/22085 [==============================] - 754s 34ms/step\n",
      "Negative class precision: 59.62%\n",
      "Positive class precision: 42.71%\n",
      "Negative class recall: 73.83%\n",
      "Positive class recall: 28.06%\n",
      "Negative class f1-score: 65.97%\n",
      "Positive class f1-score: 33.86%\n",
      "--- MACRO-AVERAGED RESULTS ---\n",
      "\n",
      "macro-precision: 51.16%\n",
      "macro-recall: 50.94%\n",
      "macro-f1-score: 49.92%\n",
      "Development results:\n",
      "3197/3197 [==============================] - 113s 35ms/step\n",
      "Negative class precision: 52.64%\n",
      "Positive class precision: 49.37%\n",
      "Negative class recall: 76.00%\n",
      "Positive class recall: 25.49%\n",
      "Negative class f1-score: 62.20%\n",
      "Positive class f1-score: 33.62%\n",
      "--- MACRO-AVERAGED RESULTS ---\n",
      "\n",
      "macro-precision: 51.00%\n",
      "macro-recall: 50.75%\n",
      "macro-f1-score: 47.91%\n",
      "Test results:\n",
      "14723/14723 [==============================] - 529s 36ms/step\n",
      "Negative class precision: 60.57%\n",
      "Positive class precision: 39.70%\n",
      "Negative class recall: 72.98%\n",
      "Positive class recall: 27.25%\n",
      "Negative class f1-score: 66.20%\n",
      "Positive class f1-score: 32.32%\n",
      "--- MACRO-AVERAGED RESULTS ---\n",
      "\n",
      "macro-precision: 50.14%\n",
      "macro-recall: 50.11%\n",
      "macro-f1-score: 49.26%\n"
     ]
    }
   ],
   "source": [
    "#TRAIN\n",
    "print('Training results:')\n",
    "predict_results(trainDs)\n",
    "\n",
    "#VALID / DEVELOPMENT\n",
    "print('Development results:')\n",
    "predict_results(validDs)\n",
    "\n",
    "#TEST\n",
    "print('Test results:')\n",
    "predict_results(testDs)"
   ]
  }
 ],
 "metadata": {
  "interpreter": {
   "hash": "9fe3f9f71338e2d10ef77b7fbb8e65708b378e5848d3966f59e9479f5fc54995"
  },
  "kernelspec": {
   "display_name": "Python 3.7.5 64-bit",
   "language": "python",
   "name": "python3"
  },
  "language_info": {
   "codemirror_mode": {
    "name": "ipython",
    "version": 3
   },
   "file_extension": ".py",
   "mimetype": "text/x-python",
   "name": "python",
   "nbconvert_exporter": "python",
   "pygments_lexer": "ipython3",
   "version": "3.7.5"
  },
  "orig_nbformat": 4
 },
 "nbformat": 4,
 "nbformat_minor": 2
}
